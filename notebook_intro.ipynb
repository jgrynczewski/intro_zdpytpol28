{
 "cells": [
  {
   "cell_type": "markdown",
   "id": "549d33c8",
   "metadata": {},
   "source": [
    "### Lekcja 2"
   ]
  },
  {
   "cell_type": "code",
   "execution_count": 3,
   "id": "c25ef3e6",
   "metadata": {},
   "outputs": [
    {
     "name": "stdout",
     "output_type": "stream",
     "text": [
      "Hello, world!\n",
      "Wynik to 8\n"
     ]
    }
   ],
   "source": [
    "print(\"Hello, world!\")\n",
    "x = 5\n",
    "y = 3\n",
    "result = x + y\n",
    "print(\"Wynik to\", result)"
   ]
  },
  {
   "cell_type": "code",
   "execution_count": 2,
   "id": "dd33a9fa",
   "metadata": {},
   "outputs": [
    {
     "name": "stdout",
     "output_type": "stream",
     "text": [
      "9\n"
     ]
    }
   ],
   "source": [
    "print(4+5)"
   ]
  },
  {
   "cell_type": "markdown",
   "id": "fb332eab",
   "metadata": {},
   "source": [
    "Po wykonaniu tej linijki powinno być 7"
   ]
  }
 ],
 "metadata": {
  "kernelspec": {
   "display_name": "Python 3 (ipykernel)",
   "language": "python",
   "name": "python3"
  },
  "language_info": {
   "codemirror_mode": {
    "name": "ipython",
    "version": 3
   },
   "file_extension": ".py",
   "mimetype": "text/x-python",
   "name": "python",
   "nbconvert_exporter": "python",
   "pygments_lexer": "ipython3",
   "version": "3.8.6"
  }
 },
 "nbformat": 4,
 "nbformat_minor": 5
}
